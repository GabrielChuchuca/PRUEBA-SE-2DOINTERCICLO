{
 "cells": [
  {
   "cell_type": "code",
   "execution_count": 1,
   "metadata": {},
   "outputs": [],
   "source": [
    "from tkinter import messagebox, ttk\n",
    "from tkinter import *\n",
    "import tkinter\n",
    "import matplotlib.pyplot as plt\n",
    "import numpy as np\n",
    "#from tkinter.messagebox import showinfo"
   ]
  },
  {
   "cell_type": "code",
   "execution_count": 2,
   "metadata": {},
   "outputs": [
    {
     "name": "stdout",
     "output_type": "stream",
     "text": [
      "TEMPERATURA\n"
     ]
    },
    {
     "data": {
      "image/png": "[encoded data removed]",
      "text/plain": [
       "<Figure size 432x288 with 1 Axes>"
      ]
     },
     "metadata": {
      "needs_background": "light"
     },
     "output_type": "display_data"
    }
   ],
   "source": [
    "#VENTANA PRINCIPAL\n",
    "root = tkinter.Tk()\n",
    "root.title(\"LOGICA DIFUSA\")\n",
    "root.geometry(\"800x800\")\n",
    "\n",
    "nb = ttk.Notebook(root)\n",
    "nb.pack(fill='both', expand='yes')\n",
    "\n",
    "p1 = ttk.Frame(nb)\n",
    "p2 = ttk.Frame(nb)\n",
    "p3 = ttk.Frame(nb)\n",
    "nb.add(p1, text='Temperatura')\n",
    "nb.add(p2, text='Humedad')\n",
    "nb.add(p3, text='RPM Motor')\n",
    "\n",
    "campo_de_texto = ttk.Entry(p1)\n",
    "campo_de_texto.pack()\n",
    "def grafico_temp():\n",
    "    print(\"TEMPERATURA\")\n",
    "    listax = [0,1,2,3,4,5,6,7,8,9,10,11,12,13,14,15,16,17,18,19,20, 10,11,12,13,14,15,16,17,18,19,20,21,22,23,24,25,26,27,28,29,30,31,32,33,34,35,36,37,38,39,40,41,42,43,44,45,46,47,48,49,50, 40,41,42,43,44,45,46,47,48,49,50,51,52,53,54,55,56,57,58,59,60]\n",
    "    listay = [1,1,1,1,1,1,1,1,1,1,1,0.9,0.8,0.7,0.6,0.5,0.4,0.3,0.2,0.1,0, 0,0.1,0.2,0.3,0.4,0.5,0.6,0.7,0.8,0.9,1,1,1,1,1,1,1,1,1,1,1,1,1,1,1,1,1,1,1,1,1,0.9,0.8,0.7,0.6,0.5,0.4,0.3,0.2,0.1,0, 0,0.1,0.2,0.3,0.4,0.5,0.6,0.7,0.8,0.9,1,1,1,1,1,1,1,1,1,1,1]\n",
    "    plt.plot(listax[:21], listay[:21], lw=5,label=\"Baja\")\n",
    "    plt.plot(listax[21:62], listay[21:62], lw=5, label=\"Media\")\n",
    "    plt.plot(listax[62:], listay[62:], lw=5, label=\"Alta\")\n",
    "    plt.axis([min(listax),max(listax),min(listay),max(listay)])\n",
    "    plt.grid()\n",
    "    plt.legend(loc=\"lower right\", title=\"Legend Title\", frameon=False)\n",
    "    a = campo_de_texto.get()\n",
    "    plt.axvline(int(a), label='pyplot vertical line')\n",
    "#     if int(a)>= 0 and int(a)>= 0\n",
    "#     plt.scatter(int(a), 0.25, color='black' )\n",
    "#     plt.scatter(int(a), 0.78, color='green' )\n",
    "    plt.show()\n",
    "   \n",
    "    \n",
    "\n",
    "boton_tem = Button(p1, text=\"TEMPERATURA\", command=grafico_temp)\n",
    "boton_tem.pack()\n",
    "\n",
    "###\n",
    "def grafico_hume():\n",
    "    print(\"HUMEDAD\")\n",
    "    listax = [70, 60, 50,60, 50, 30, 20, 30,20,10]\n",
    "    listay = [1, 1, 0, 0, 1, 1, 0, 0, 1, 1]\n",
    "    plt.plot(listax[:3], listay[:3], lw=5,label=\"Alta\")\n",
    "    plt.plot(listax[3:7], listay[3:7], lw=5, label=\"Media\")\n",
    "    plt.plot(listax[7:], listay[7:], lw=5, label=\"Baja\")\n",
    "    plt.axis([max(listax),min(listax),min(listay),max(listay)])\n",
    "    plt.grid()\n",
    "    plt.legend(loc=\"lower right\", title=\"Legend Title\", frameon=False)\n",
    "    plt.show()\n",
    "\n",
    "boton_hum = Button(p2, text=\"HUMEDAD\", command=grafico_hume)\n",
    "boton_hum.pack()\n",
    "\n",
    "###\n",
    "\n",
    "\n",
    "\n",
    "root.mainloop()\n"
   ]
  },
  {
   "cell_type": "code",
   "execution_count": null,
   "metadata": {},
   "outputs": [],
   "source": []
  },
  {
   "cell_type": "code",
   "execution_count": null,
   "metadata": {},
   "outputs": [],
   "source": []
  }
 ],
 "metadata": {
  "kernelspec": {
   "display_name": "Python 3",
   "language": "python",
   "name": "python3"
  },
  "language_info": {
   "codemirror_mode": {
    "name": "ipython",
    "version": 3
   },
   "file_extension": ".py",
   "mimetype": "text/x-python",
   "name": "python",
   "nbconvert_exporter": "python",
   "pygments_lexer": "ipython3",
   "version": "3.8.3"
  }
 },
 "nbformat": 4,
 "nbformat_minor": 4
}
