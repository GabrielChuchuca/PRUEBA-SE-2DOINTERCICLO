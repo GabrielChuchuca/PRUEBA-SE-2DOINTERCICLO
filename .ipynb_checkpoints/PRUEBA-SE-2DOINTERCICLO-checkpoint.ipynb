{
 "cells": [
  {
   "cell_type": "code",
   "execution_count": 3,
   "metadata": {},
   "outputs": [],
   "source": [
    "from tkinter import messagebox, ttk\n",
    "from tkinter import *\n",
    "import tkinter\n",
    "#from tkinter.messagebox import showinfo"
   ]
  },
  {
   "cell_type": "code",
   "execution_count": null,
   "metadata": {},
   "outputs": [
    {
     "name": "stdout",
     "output_type": "stream",
     "text": [
      "1.0\n",
      "<class 'str'>\n",
      "0.0\n",
      "<class 'float'>\n",
      "1.0\n",
      "<class 'str'>\n"
     ]
    }
   ],
   "source": [
    "def seleccionar_tem(ev):\n",
    "    global texto_seleccionado\n",
    "    texto_seleccionado = ev.widget.get(ANCHOR)\n",
    "    print(texto_seleccionado)\n",
    "    print(type(texto_seleccionado))\n",
    "def seleccionar_hum(ev1):\n",
    "    global texto_seleccionado1\n",
    "    texto_seleccionado1 = ev1.widget.get(ANCHOR)\n",
    "    print(texto_seleccionado1)\n",
    "    print(type(texto_seleccionado1))\n",
    "\n",
    "#VENTANA PRINCIPAL\n",
    "root = tkinter.Tk()\n",
    "root.title(\"LOGICA DIFUSA\")\n",
    "root.geometry(\"800x800\")\n",
    "\n",
    "\n",
    "nb = ttk.Notebook(root)\n",
    "nb.pack(fill='both', expand='yes')\n",
    "\n",
    "p1 = ttk.Frame(nb)\n",
    "p2 = ttk.Frame(nb)\n",
    "p3 = ttk.Frame(nb)\n",
    "nb.add(p1, text='Temperatura')\n",
    "nb.add(p2, text='Humedad')\n",
    "nb.add(p3, text='RPM Motor')\n",
    "\n",
    "m1 = PanedWindow(p1)\n",
    "m1.pack(fill=BOTH, expand=1)\n",
    "\n",
    "m2 = PanedWindow(p1)\n",
    "m2.pack(fill=BOTH, expand=1)\n",
    "\n",
    "\n",
    "listbox = Listbox(m1)\n",
    "listbox.pack(expand=True, fill=BOTH)\n",
    "\n",
    "listbox.insert(END, 0.0)\n",
    "listbox.insert(END, 1.0)\n",
    "\n",
    "texto_seleccionado = 'Ningún elemento Seleccionado'\n",
    "\n",
    "listbox.bind('<<ListboxSelect>>', seleccionar_tem)\n",
    "root.bind('<Return>', lambda ev:showinfo(title='Texto Seleccionado', message=texto_seleccionado))\n",
    "###\n",
    "m11 = PanedWindow(p2)\n",
    "m11.pack(fill=BOTH, expand=1)\n",
    "\n",
    "m22 = PanedWindow(p2)\n",
    "m22.pack(fill=BOTH, expand=1)\n",
    "\n",
    "\n",
    "listbox1 = Listbox(m11)\n",
    "listbox1.pack(expand=True, fill=BOTH)\n",
    "\n",
    "listbox1.insert(END, \"0.0\")\n",
    "listbox1.insert(END, \"1.0\")\n",
    "\n",
    "texto_seleccionado1 = 'Ningún elemento Seleccionado'\n",
    "\n",
    "listbox1.bind('<<ListboxSelect>>', seleccionar_hum)\n",
    "root.bind('<Return>', lambda ev1:showinfo(title='Texto Seleccionado', message=texto_seleccionado1))\n",
    "###\n",
    "\n",
    "\n",
    "root.mainloop()\n"
   ]
  },
  {
   "cell_type": "code",
   "execution_count": null,
   "metadata": {},
   "outputs": [],
   "source": []
  }
 ],
 "metadata": {
  "kernelspec": {
   "display_name": "Python 3",
   "language": "python",
   "name": "python3"
  },
  "language_info": {
   "codemirror_mode": {
    "name": "ipython",
    "version": 3
   },
   "file_extension": ".py",
   "mimetype": "text/x-python",
   "name": "python",
   "nbconvert_exporter": "python",
   "pygments_lexer": "ipython3",
   "version": "3.8.3"
  }
 },
 "nbformat": 4,
 "nbformat_minor": 4
}
